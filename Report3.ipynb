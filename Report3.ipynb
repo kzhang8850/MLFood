{
 "cells": [
  {
   "cell_type": "markdown",
   "metadata": {},
   "source": [
    "# Report 3\n",
    "\n",
    "### by Kaitlyn Keil and Kevin Zhang\n",
    "### April 2017\n",
    "\n",
    "<a href = http://tna.europarchive.org/20110116113217/http:/www.food.gov.uk/science/dietarysurveys/dietsurveys/>UK Food Network Dataset</a>"
   ]
  },
  {
   "cell_type": "code",
   "execution_count": 2,
   "metadata": {
    "collapsed": false
   },
   "outputs": [
    {
     "ename": "ImportError",
     "evalue": "No module named 'thinkstats2'",
     "output_type": "error",
     "traceback": [
      "\u001b[0;31m---------------------------------------------------------------------------\u001b[0m",
      "\u001b[0;31mImportError\u001b[0m                               Traceback (most recent call last)",
      "\u001b[0;32m<ipython-input-2-64f30c3bc68e>\u001b[0m in \u001b[0;36m<module>\u001b[0;34m()\u001b[0m\n\u001b[1;32m     12\u001b[0m \u001b[0;32mimport\u001b[0m \u001b[0mnumpy\u001b[0m \u001b[0;32mas\u001b[0m \u001b[0mnp\u001b[0m\u001b[0;34m\u001b[0m\u001b[0m\n\u001b[1;32m     13\u001b[0m \u001b[0;32mimport\u001b[0m \u001b[0mmath\u001b[0m\u001b[0;34m\u001b[0m\u001b[0m\n\u001b[0;32m---> 14\u001b[0;31m \u001b[0;32mimport\u001b[0m \u001b[0mthinkstats2\u001b[0m\u001b[0;34m\u001b[0m\u001b[0m\n\u001b[0m\u001b[1;32m     15\u001b[0m \u001b[0;32mimport\u001b[0m \u001b[0mthinkplot\u001b[0m\u001b[0;34m\u001b[0m\u001b[0m\n\u001b[1;32m     16\u001b[0m \u001b[0;32mimport\u001b[0m \u001b[0mmatplotlib\u001b[0m\u001b[0;34m.\u001b[0m\u001b[0mpyplot\u001b[0m \u001b[0;32mas\u001b[0m \u001b[0mplt\u001b[0m\u001b[0;34m\u001b[0m\u001b[0m\n",
      "\u001b[0;31mImportError\u001b[0m: No module named 'thinkstats2'"
     ]
    }
   ],
   "source": [
    "\"\"\" This file contains code used to analyze the\n",
    "UK Food Nutrient Database, the information for which can be found\n",
    "at this link: http://tna.europarchive.org/20110116113217/http:/www.food.gov.uk/science/dietarysurveys/dietsurveys/\n",
    "\n",
    "The following packages are required to run this code.\n",
    "\"\"\"\n",
    "\n",
    "from __future__ import print_function, division\n",
    "import pandas as pd\n",
    "\n",
    "import sys\n",
    "import numpy as np\n",
    "import math\n",
    "import thinkstats2\n",
    "import thinkplot\n",
    "import matplotlib.pyplot as plt\n",
    "from operator import itemgetter\n",
    "from cycler import cycler\n",
    "from sklearn.feature_extraction import DictVectorizer\n",
    "\n",
    "from collections import defaultdict, Counter\n",
    "import survival\n",
    "import statsmodels.formula.api as smf"
   ]
  },
  {
   "cell_type": "code",
   "execution_count": 166,
   "metadata": {
    "collapsed": true
   },
   "outputs": [],
   "source": [
    "### This is for the other massive set\n",
    "\n",
    "def ReadIngredients(region='African'):\n",
    "    \"\"\" Takes the ingedients dataset and converts it into a Dataframe. \n",
    "    Region can be: African, EastAsian, EasternEuropean, LatinAmerican,\n",
    "        MiddleEastern, NorthAmerican, NorthernEuropean, SouthAsian,\n",
    "        SoutheastAsian, SouthernEuropean, WesternEuropean\"\"\"\n",
    "    temp = pd.read_csv(\"FoodDataset/ingredients.csv\") # Reads the file with a lot of NaNs and little order\n",
    "    #temp.fillna(value='None')\n",
    "    temp2 = temp[temp.cuisine_type==region]\n",
    "    temp_dict = temp2.to_dict('index')\n",
    "    \n",
    "    temp_list = []\n",
    "    \n",
    "    for keys,values in temp_dict.items():\n",
    "        td = {}\n",
    "        for key,x in values.items():\n",
    "            if key=='cuisine_type':\n",
    "                td[key] = x\n",
    "            else:\n",
    "                td[x]=1\n",
    "        temp_list.append(td)\n",
    "        \n",
    "        \n",
    "    return pd.DataFrame(temp_list).fillna(0)\n",
    "\n",
    "def corrPlot(df):\n",
    "    \"\"\" Given the ingredients dataframe, selects\n",
    "    the most used ingredients and creates a correlation \n",
    "    matrix from them.\"\"\"\n",
    "    df1 = df.ix[:, (df.columns != 'cuisine_type')]\n",
    "    temp_df = df1.sum()\n",
    "    mdf = temp_df[temp_df > 50].iloc[1:]\n",
    "    print(mdf)\n",
    "    corr_df = pd.DataFrame()\n",
    "    \n",
    "    for x in mdf.index:\n",
    "        if x!='index1':\n",
    "            corr_df[x] = df[x]\n",
    "        \n",
    "    corr_df['index1'] = [int(x) for x in corr_df.index.values]\n",
    "    sns.heatmap(corr_df.corr())\n",
    "    return corr_df\n",
    "\n",
    "#ingredients = ReadIngredients('SoutheastAsian')\n",
    "\n",
    "# Shows what ingredients are most/least likely to be used together.\n",
    "#  For example, in African cuisine, cumin and coriander are fairly \n",
    "#  correlated, whereas vegetable oil and olive oil together are not.\n",
    "#%matplotlib inline\n",
    "#corr_df = corrPlot(ingredients)"
   ]
  },
  {
   "cell_type": "code",
   "execution_count": 40,
   "metadata": {
    "collapsed": true
   },
   "outputs": [],
   "source": [
    "def ReadProximates():\n",
    "    df = pd.read_excel('dietary.xls', sheetname='Proximates')\n",
    "    column_list = ['Water (g)']#, 'Protein (g)', 'Fat (g)', 'Carbohydrate (g)', 'Total sugars (g)']\n",
    "    for column in column_list:\n",
    "        new_name = column[:-4]\n",
    "        df[new_name]= df[column]\n",
    "        for key, value in df[column].items():\n",
    "            if isinstance(value, str):\n",
    "                if '(' in value:\n",
    "                    df[new_name][key] = float(value[1:-1])\n",
    "                elif value=='Tr':\n",
    "                    df[new_name][key] = 0.0\n",
    "                elif value=='N':\n",
    "                    df[new_name][key] = 0.0\n",
    "                elif value==np.nan:\n",
    "                    df[new_name][key] = 0.0\n",
    "                else:\n",
    "                    df[new_name][key] = float(value)\n",
    "        \n",
    "    return df"
   ]
  },
  {
   "cell_type": "code",
   "execution_count": null,
   "metadata": {
    "collapsed": false
   },
   "outputs": [
    {
     "name": "stderr",
     "output_type": "stream",
     "text": [
      "/home/kaitlyn/anaconda3/lib/python3.5/site-packages/ipykernel/__main__.py:10: SettingWithCopyWarning: \n",
      "A value is trying to be set on a copy of a slice from a DataFrame\n",
      "\n",
      "See the caveats in the documentation: http://pandas.pydata.org/pandas-docs/stable/indexing.html#indexing-view-versus-copy\n",
      "/home/kaitlyn/anaconda3/lib/python3.5/site-packages/ipykernel/__main__.py:18: SettingWithCopyWarning: \n",
      "A value is trying to be set on a copy of a slice from a DataFrame\n",
      "\n",
      "See the caveats in the documentation: http://pandas.pydata.org/pandas-docs/stable/indexing.html#indexing-view-versus-copy\n",
      "/home/kaitlyn/anaconda3/lib/python3.5/site-packages/ipykernel/__main__.py:14: SettingWithCopyWarning: \n",
      "A value is trying to be set on a copy of a slice from a DataFrame\n",
      "\n",
      "See the caveats in the documentation: http://pandas.pydata.org/pandas-docs/stable/indexing.html#indexing-view-versus-copy\n",
      "/home/kaitlyn/anaconda3/lib/python3.5/site-packages/ipykernel/__main__.py:12: SettingWithCopyWarning: \n",
      "A value is trying to be set on a copy of a slice from a DataFrame\n",
      "\n",
      "See the caveats in the documentation: http://pandas.pydata.org/pandas-docs/stable/indexing.html#indexing-view-versus-copy\n"
     ]
    }
   ],
   "source": [
    "#tester = pd.read_excel('dietary.xls', sheetname='Proximates')\n",
    "tester = ReadProximates()\n",
    "# TO DO\n",
    "# For cleaning: \n",
    "#  Get rid of Ns and Trs <- Done!\n",
    "#  Figure out how to deal with parentheses <- Done!\n",
    "#  Convert rows into floats (.astype) <- Done!\n",
    "#  Get ready for lots of brackets...\n",
    "#  Potentially just make different columns for the integer values\n",
    "\n",
    "# For report:\n",
    "#  Figure out if we can actually classify based on these values\n",
    "#  Make a dictionary mapping from the Group codes to actual names\n",
    "#  Figure out a good model\n",
    "#  Do the thing\n",
    "#  PCA to figure out the components we will want to look at\n",
    "#  Unclassified ML to figure out natural groups?\n"
   ]
  },
  {
   "cell_type": "code",
   "execution_count": 39,
   "metadata": {
    "collapsed": false
   },
   "outputs": [
    {
     "data": {
      "text/plain": [
       "0       72.3\n",
       "1       72.3\n",
       "2       72.3\n",
       "3       72.3\n",
       "4       72.3\n",
       "5       72.3\n",
       "6       72.3\n",
       "7       72.3\n",
       "8       72.3\n",
       "9       72.3\n",
       "10      72.3\n",
       "11      72.3\n",
       "12      72.3\n",
       "13      72.3\n",
       "14      72.3\n",
       "15      72.3\n",
       "16      72.3\n",
       "17      72.3\n",
       "18      72.3\n",
       "19      72.3\n",
       "20      72.3\n",
       "21      72.3\n",
       "22      72.3\n",
       "23      72.3\n",
       "24      72.3\n",
       "25      72.3\n",
       "26      72.3\n",
       "27      72.3\n",
       "28      72.3\n",
       "29      72.3\n",
       "        ... \n",
       "3393    72.3\n",
       "3394    72.3\n",
       "3395    72.3\n",
       "3396    72.3\n",
       "3397    72.3\n",
       "3398    72.3\n",
       "3399    72.3\n",
       "3400    72.3\n",
       "3401    72.3\n",
       "3402    72.3\n",
       "3403    72.3\n",
       "3404    72.3\n",
       "3405    72.3\n",
       "3406    72.3\n",
       "3407    72.3\n",
       "3408    72.3\n",
       "3409    72.3\n",
       "3410    72.3\n",
       "3411    72.3\n",
       "3412    72.3\n",
       "3413    72.3\n",
       "3414    72.3\n",
       "3415    72.3\n",
       "3416    72.3\n",
       "3417    72.3\n",
       "3418    72.3\n",
       "3419    72.3\n",
       "3420    72.3\n",
       "3421    72.3\n",
       "3422    72.3\n",
       "Name: Water, dtype: float64"
      ]
     },
     "execution_count": 39,
     "metadata": {},
     "output_type": "execute_result"
    }
   ],
   "source": [
    "tester.Water"
   ]
  },
  {
   "cell_type": "code",
   "execution_count": 34,
   "metadata": {
    "collapsed": false,
    "scrolled": false
   },
   "outputs": [
    {
     "name": "stdout",
     "output_type": "stream",
     "text": [
      "Water \n"
     ]
    }
   ],
   "source": [
    "my_str ='Water (g)'\n",
    "print(my_str[:-4])"
   ]
  },
  {
   "cell_type": "code",
   "execution_count": 30,
   "metadata": {
    "collapsed": false
   },
   "outputs": [],
   "source": [
    "for key, value in tester['Water (g)'].items():\n",
    "    if isinstance(value, str):\n",
    "        if '(' in value:\n",
    "            tester['Water (g)'][key] = value[1:-1]\n",
    "        elif value=='Tr':\n",
    "            tester['Water (g)'][key] = '0.0'\n",
    "        elif value=='N':\n",
    "            tester['Water (g)'][key] = '0.0'\n",
    "        \n",
    "tester['Water (g)'] = tester['Water (g)'].astype(float)"
   ]
  },
  {
   "cell_type": "code",
   "execution_count": 32,
   "metadata": {
    "collapsed": false
   },
   "outputs": [
    {
     "data": {
      "text/plain": [
       "0       285.0\n",
       "1       287.4\n",
       "2       281.7\n",
       "3       258.9\n",
       "4       276.0\n",
       "5       270.6\n",
       "6       283.2\n",
       "7       281.7\n",
       "8       266.1\n",
       "9       291.0\n",
       "10      289.2\n",
       "11      290.1\n",
       "12      282.0\n",
       "13      282.6\n",
       "14      288.9\n",
       "15      279.0\n",
       "16      284.1\n",
       "17      279.9\n",
       "18      279.0\n",
       "19      290.1\n",
       "20      277.5\n",
       "21      284.7\n",
       "22      273.6\n",
       "23      241.8\n",
       "24      224.4\n",
       "25      236.4\n",
       "26      243.0\n",
       "27      213.3\n",
       "28      221.1\n",
       "29      142.2\n",
       "        ...  \n",
       "3393    259.8\n",
       "3394    286.8\n",
       "3395    280.5\n",
       "3396    285.9\n",
       "3397    224.1\n",
       "3398    219.6\n",
       "3399    220.2\n",
       "3400    275.1\n",
       "3401    278.7\n",
       "3402    283.2\n",
       "3403    284.1\n",
       "3404    286.8\n",
       "3405    286.5\n",
       "3406    255.3\n",
       "3407     38.4\n",
       "3408    252.9\n",
       "3409    274.2\n",
       "3410    287.7\n",
       "3411    287.7\n",
       "3412    275.7\n",
       "3413    277.2\n",
       "3414    222.3\n",
       "3415    222.3\n",
       "3416    257.4\n",
       "3417    260.1\n",
       "3418    251.4\n",
       "3419    277.8\n",
       "3420    278.1\n",
       "3421    259.2\n",
       "3422    287.4\n",
       "Name: Water (g), dtype: float64"
      ]
     },
     "execution_count": 32,
     "metadata": {},
     "output_type": "execute_result"
    }
   ],
   "source": []
  },
  {
   "cell_type": "code",
   "execution_count": null,
   "metadata": {
    "collapsed": true
   },
   "outputs": [],
   "source": []
  }
 ],
 "metadata": {
  "anaconda-cloud": {},
  "kernelspec": {
   "display_name": "Python [conda root]",
   "language": "python",
   "name": "conda-root-py"
  },
  "language_info": {
   "codemirror_mode": {
    "name": "ipython",
    "version": 3
   },
   "file_extension": ".py",
   "mimetype": "text/x-python",
   "name": "python",
   "nbconvert_exporter": "python",
   "pygments_lexer": "ipython3",
   "version": "3.5.2"
  }
 },
 "nbformat": 4,
 "nbformat_minor": 1
}
