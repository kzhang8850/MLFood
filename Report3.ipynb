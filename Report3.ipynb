{
 "cells": [
  {
   "cell_type": "markdown",
   "metadata": {},
   "source": [
    "# Report 3\n",
    "\n",
    "### by Kaitlyn Keil and Kevin Zhang\n",
    "### April 2017\n",
    "\n",
    "<a href = http://tna.europarchive.org/20110116113217/http:/www.food.gov.uk/science/dietarysurveys/dietsurveys/>UK Food Network Dataset</a>"
   ]
  },
  {
   "cell_type": "code",
   "execution_count": 9,
   "metadata": {
    "collapsed": false
   },
   "outputs": [],
   "source": [
    "\"\"\" This file contains code used to analyze the\n",
    "UK Food Nutrient Database, the information for which can be found\n",
    "at this link: http://tna.europarchive.org/20110116113217/http:/www.food.gov.uk/science/dietarysurveys/dietsurveys/\n",
    "\n",
    "The following packages are required to run this code.\n",
    "\"\"\"\n",
    "\n",
    "from __future__ import print_function, division\n",
    "import pandas as pd\n",
    "\n",
    "import sys\n",
    "import numpy as np\n",
    "import math\n",
    "import thinkstats2\n",
    "import thinkplot\n",
    "import matplotlib.pyplot as plt\n",
    "from operator import itemgetter\n",
    "from cycler import cycler\n",
    "from sklearn.feature_extraction import DictVectorizer\n",
    "%matplotlib inline\n",
    "import seaborn as sns\n",
    "\n",
    "from collections import defaultdict, Counter\n",
    "import statsmodels.formula.api as smf"
   ]
  },
  {
   "cell_type": "code",
   "execution_count": 166,
   "metadata": {
    "collapsed": true
   },
   "outputs": [],
   "source": [
    "### This is for the other massive set\n",
    "\n",
    "def ReadIngredients(region='African'):\n",
    "    \"\"\" Takes the ingedients dataset and converts it into a Dataframe. \n",
    "    Region can be: African, EastAsian, EasternEuropean, LatinAmerican,\n",
    "        MiddleEastern, NorthAmerican, NorthernEuropean, SouthAsian,\n",
    "        SoutheastAsian, SouthernEuropean, WesternEuropean\"\"\"\n",
    "    temp = pd.read_csv(\"FoodDataset/ingredients.csv\") # Reads the file with a lot of NaNs and little order\n",
    "    #temp.fillna(value='None')\n",
    "    temp2 = temp[temp.cuisine_type==region]\n",
    "    temp_dict = temp2.to_dict('index')\n",
    "    \n",
    "    temp_list = []\n",
    "    \n",
    "    for keys,values in temp_dict.items():\n",
    "        td = {}\n",
    "        for key,x in values.items():\n",
    "            if key=='cuisine_type':\n",
    "                td[key] = x\n",
    "            else:\n",
    "                td[x]=1\n",
    "        temp_list.append(td)\n",
    "        \n",
    "        \n",
    "    return pd.DataFrame(temp_list).fillna(0)\n",
    "\n",
    "def corrPlot(df):\n",
    "    \"\"\" Given the ingredients dataframe, selects\n",
    "    the most used ingredients and creates a correlation \n",
    "    matrix from them.\"\"\"\n",
    "    df1 = df.ix[:, (df.columns != 'cuisine_type')]\n",
    "    temp_df = df1.sum()\n",
    "    mdf = temp_df[temp_df > 50].iloc[1:]\n",
    "    print(mdf)\n",
    "    corr_df = pd.DataFrame()\n",
    "    \n",
    "    for x in mdf.index:\n",
    "        if x!='index1':\n",
    "            corr_df[x] = df[x]\n",
    "        \n",
    "    corr_df['index1'] = [int(x) for x in corr_df.index.values]\n",
    "    sns.heatmap(corr_df.corr())\n",
    "    return corr_df\n",
    "\n",
    "#ingredients = ReadIngredients('SoutheastAsian')\n",
    "\n",
    "# Shows what ingredients are most/least likely to be used together.\n",
    "#  For example, in African cuisine, cumin and coriander are fairly \n",
    "#  correlated, whereas vegetable oil and olive oil together are not.\n",
    "#%matplotlib inline\n",
    "#corr_df = corrPlot(ingredients)"
   ]
  },
  {
   "cell_type": "code",
   "execution_count": 52,
   "metadata": {
    "collapsed": true
   },
   "outputs": [],
   "source": [
    "def ReadProximates():\n",
    "    df = pd.read_excel('dietary.xls', sheetname='Proximates')\n",
    "    column_list = ['Water (g)', 'Protein (g)', 'Fat (g)', 'Carbohydrate (g)', 'Total sugars (g)']\n",
    "    for column in column_list:\n",
    "        new_name = column[:-4]\n",
    "        df[new_name]= df[column]\n",
    "        for key, value in df[column].items():\n",
    "            if isinstance(value, str):\n",
    "                if '(' in value:\n",
    "                    df[new_name][key] = float(value[1:-1])\n",
    "                elif value=='Tr':\n",
    "                    df[new_name][key] = 0.0\n",
    "                elif value=='N':\n",
    "                    df[new_name][key] = 0.0\n",
    "                elif math.isnan(float(value)):\n",
    "                    df[new_name][key] = 0.0\n",
    "                    print('NaN found')\n",
    "                else:\n",
    "                    df[new_name][key] = float(value)\n",
    "        \n",
    "    return df"
   ]
  },
  {
   "cell_type": "code",
   "execution_count": null,
   "metadata": {
    "collapsed": false
   },
   "outputs": [
    {
     "name": "stderr",
     "output_type": "stream",
     "text": [
      "/home/kaitlyn/anaconda3/lib/python3.5/site-packages/ipykernel/__main__.py:10: SettingWithCopyWarning: \n",
      "A value is trying to be set on a copy of a slice from a DataFrame\n",
      "\n",
      "See the caveats in the documentation: http://pandas.pydata.org/pandas-docs/stable/indexing.html#indexing-view-versus-copy\n",
      "/home/kaitlyn/anaconda3/lib/python3.5/site-packages/ipykernel/__main__.py:19: SettingWithCopyWarning: \n",
      "A value is trying to be set on a copy of a slice from a DataFrame\n",
      "\n",
      "See the caveats in the documentation: http://pandas.pydata.org/pandas-docs/stable/indexing.html#indexing-view-versus-copy\n",
      "/home/kaitlyn/anaconda3/lib/python3.5/site-packages/ipykernel/__main__.py:14: SettingWithCopyWarning: \n",
      "A value is trying to be set on a copy of a slice from a DataFrame\n",
      "\n",
      "See the caveats in the documentation: http://pandas.pydata.org/pandas-docs/stable/indexing.html#indexing-view-versus-copy\n",
      "/home/kaitlyn/anaconda3/lib/python3.5/site-packages/ipykernel/__main__.py:12: SettingWithCopyWarning: \n",
      "A value is trying to be set on a copy of a slice from a DataFrame\n",
      "\n",
      "See the caveats in the documentation: http://pandas.pydata.org/pandas-docs/stable/indexing.html#indexing-view-versus-copy\n"
     ]
    }
   ],
   "source": [
    "#tester = pd.read_excel('dietary.xls', sheetname='Proximates')\n",
    "tester = ReadProximates()\n",
    "# TO DO\n",
    "# For cleaning: \n",
    "#  Get rid of Ns and Trs <- Done!\n",
    "#  Figure out how to deal with parentheses <- Done!\n",
    "#  Convert rows into floats (.astype) <- Done!\n",
    "#  Get ready for lots of brackets...\n",
    "#  Potentially just make different columns for the integer values <- ...done?\n",
    "\n",
    "# For report:\n",
    "#  Figure out if we can actually classify based on these values\n",
    "#  Make a dictionary mapping from the Group codes to actual names\n",
    "#  Figure out a good model\n",
    "#  Do the thing\n",
    "#  PCA to figure out the components we will want to look at\n",
    "#  Unclassified ML to figure out natural groups?\n"
   ]
  },
  {
   "cell_type": "code",
   "execution_count": 50,
   "metadata": {
    "collapsed": false,
    "scrolled": true
   },
   "outputs": [
    {
     "data": {
      "text/plain": [
       "nan"
      ]
     },
     "execution_count": 50,
     "metadata": {},
     "output_type": "execute_result"
    }
   ],
   "source": [
    "tester"
   ]
  },
  {
   "cell_type": "code",
   "execution_count": 51,
   "metadata": {
    "collapsed": false,
    "scrolled": true
   },
   "outputs": [
    {
     "ename": "AttributeError",
     "evalue": "'DataFrame' object has no attribute 'Water'",
     "output_type": "error",
     "traceback": [
      "\u001b[0;31m---------------------------------------------------------------------------\u001b[0m",
      "\u001b[0;31mAttributeError\u001b[0m                            Traceback (most recent call last)",
      "\u001b[0;32m<ipython-input-51-764b86a6ef39>\u001b[0m in \u001b[0;36m<module>\u001b[0;34m()\u001b[0m\n\u001b[1;32m      1\u001b[0m \u001b[0;32mfrom\u001b[0m \u001b[0msklearn\u001b[0m\u001b[0;34m.\u001b[0m\u001b[0mcluster\u001b[0m \u001b[0;32mimport\u001b[0m \u001b[0mKMeans\u001b[0m\u001b[0;34m\u001b[0m\u001b[0m\n\u001b[1;32m      2\u001b[0m \u001b[0;31m#['Water (g)', 'Protein (g)', 'Fat (g)', 'Carbohydrate (g)', 'Total sugars (g)']\u001b[0m\u001b[0;34m\u001b[0m\u001b[0;34m\u001b[0m\u001b[0m\n\u001b[0;32m----> 3\u001b[0;31m \u001b[0mwater\u001b[0m \u001b[0;34m=\u001b[0m \u001b[0mpd\u001b[0m\u001b[0;34m.\u001b[0m\u001b[0mSeries\u001b[0m\u001b[0;34m(\u001b[0m\u001b[0mtester\u001b[0m\u001b[0;34m.\u001b[0m\u001b[0mWater\u001b[0m\u001b[0;34m,\u001b[0m \u001b[0mname\u001b[0m\u001b[0;34m=\u001b[0m\u001b[0;34m'Water'\u001b[0m\u001b[0;34m)\u001b[0m\u001b[0;34m\u001b[0m\u001b[0m\n\u001b[0m\u001b[1;32m      4\u001b[0m \u001b[0mprotein\u001b[0m \u001b[0;34m=\u001b[0m \u001b[0mpd\u001b[0m\u001b[0;34m.\u001b[0m\u001b[0mSeries\u001b[0m\u001b[0;34m(\u001b[0m\u001b[0mtester\u001b[0m\u001b[0;34m.\u001b[0m\u001b[0mProtein\u001b[0m\u001b[0;34m,\u001b[0m \u001b[0mname\u001b[0m\u001b[0;34m=\u001b[0m\u001b[0;34m'Protein'\u001b[0m\u001b[0;34m)\u001b[0m\u001b[0;34m\u001b[0m\u001b[0m\n\u001b[1;32m      5\u001b[0m \u001b[0mfat\u001b[0m \u001b[0;34m=\u001b[0m \u001b[0mpd\u001b[0m\u001b[0;34m.\u001b[0m\u001b[0mSeries\u001b[0m\u001b[0;34m(\u001b[0m\u001b[0mtester\u001b[0m\u001b[0;34m.\u001b[0m\u001b[0mFat\u001b[0m\u001b[0;34m,\u001b[0m \u001b[0mname\u001b[0m\u001b[0;34m=\u001b[0m\u001b[0;34m'Fat'\u001b[0m\u001b[0;34m)\u001b[0m\u001b[0;34m\u001b[0m\u001b[0m\n",
      "\u001b[0;32m/home/kaitlyn/anaconda3/lib/python3.5/site-packages/pandas/core/generic.py\u001b[0m in \u001b[0;36m__getattr__\u001b[0;34m(self, name)\u001b[0m\n\u001b[1;32m   2670\u001b[0m             \u001b[0;32mif\u001b[0m \u001b[0mname\u001b[0m \u001b[0;32min\u001b[0m \u001b[0mself\u001b[0m\u001b[0;34m.\u001b[0m\u001b[0m_info_axis\u001b[0m\u001b[0;34m:\u001b[0m\u001b[0;34m\u001b[0m\u001b[0m\n\u001b[1;32m   2671\u001b[0m                 \u001b[0;32mreturn\u001b[0m \u001b[0mself\u001b[0m\u001b[0;34m[\u001b[0m\u001b[0mname\u001b[0m\u001b[0;34m]\u001b[0m\u001b[0;34m\u001b[0m\u001b[0m\n\u001b[0;32m-> 2672\u001b[0;31m             \u001b[0;32mreturn\u001b[0m \u001b[0mobject\u001b[0m\u001b[0;34m.\u001b[0m\u001b[0m__getattribute__\u001b[0m\u001b[0;34m(\u001b[0m\u001b[0mself\u001b[0m\u001b[0;34m,\u001b[0m \u001b[0mname\u001b[0m\u001b[0;34m)\u001b[0m\u001b[0;34m\u001b[0m\u001b[0m\n\u001b[0m\u001b[1;32m   2673\u001b[0m \u001b[0;34m\u001b[0m\u001b[0m\n\u001b[1;32m   2674\u001b[0m     \u001b[0;32mdef\u001b[0m \u001b[0m__setattr__\u001b[0m\u001b[0;34m(\u001b[0m\u001b[0mself\u001b[0m\u001b[0;34m,\u001b[0m \u001b[0mname\u001b[0m\u001b[0;34m,\u001b[0m \u001b[0mvalue\u001b[0m\u001b[0;34m)\u001b[0m\u001b[0;34m:\u001b[0m\u001b[0;34m\u001b[0m\u001b[0m\n",
      "\u001b[0;31mAttributeError\u001b[0m: 'DataFrame' object has no attribute 'Water'"
     ]
    }
   ],
   "source": [
    "from sklearn.cluster import KMeans\n",
    "#['Water (g)', 'Protein (g)', 'Fat (g)', 'Carbohydrate (g)', 'Total sugars (g)']\n",
    "water = pd.Series(tester.Water, name='Water')\n",
    "protein = pd.Series(tester.Protein, name='Protein')\n",
    "fat = pd.Series(tester.Fat, name='Fat')\n",
    "carbs = pd.Series(tester.Carbohydrate, name='Carbs')\n",
    "sugars = pd.Series(tester['Total sugars'], name='Sugars')\n",
    "X = pd.concat([water,protein,fat,carbs,sugars], axis=1)\n",
    "X.fillna(0)\n",
    "kmeans = KMeans(n_clusters=15, random_state=0)\n",
    "kmeans.fit(X.dropna())"
   ]
  },
  {
   "cell_type": "code",
   "execution_count": 30,
   "metadata": {
    "collapsed": false
   },
   "outputs": [],
   "source": [
    "for key, value in tester['Water (g)'].items():\n",
    "    if isinstance(value, str):\n",
    "        if '(' in value:\n",
    "            tester['Water (g)'][key] = value[1:-1]\n",
    "        elif value=='Tr':\n",
    "            tester['Water (g)'][key] = '0.0'\n",
    "        elif value=='N':\n",
    "            tester['Water (g)'][key] = '0.0'\n",
    "        \n",
    "tester['Water (g)'] = tester['Water (g)'].astype(float)"
   ]
  }
 ],
 "metadata": {
  "anaconda-cloud": {},
  "kernelspec": {
   "display_name": "Python [conda root]",
   "language": "python",
   "name": "conda-root-py"
  },
  "language_info": {
   "codemirror_mode": {
    "name": "ipython",
    "version": 3
   },
   "file_extension": ".py",
   "mimetype": "text/x-python",
   "name": "python",
   "nbconvert_exporter": "python",
   "pygments_lexer": "ipython3",
   "version": "3.5.2"
  }
 },
 "nbformat": 4,
 "nbformat_minor": 1
}
