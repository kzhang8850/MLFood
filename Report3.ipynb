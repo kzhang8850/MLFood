{
 "cells": [
  {
   "cell_type": "markdown",
   "metadata": {},
   "source": [
    "# Report 3\n",
    "\n",
    "### by Kaitlyn Keil and Kevin Zhang\n",
    "### April 2017\n",
    "\n",
    "<a href = http://tna.europarchive.org/20110116113217/http:/www.food.gov.uk/science/dietarysurveys/dietsurveys/>UK Food Network Dataset</a>\n",
    "\n",
    "http://tna.europarchive.org/20110116113217/http://www.food.gov.uk/multimedia/pdfs/cofuserdoc.pdf"
   ]
  },
  {
   "cell_type": "code",
   "execution_count": 3,
   "metadata": {
    "collapsed": false
   },
   "outputs": [],
   "source": [
    "\"\"\" This file contains code used to analyze the\n",
    "UK Food Nutrient Database, the information for which can be found\n",
    "at this link: http://tna.europarchive.org/20110116113217/http:/www.food.gov.uk/science/dietarysurveys/dietsurveys/\n",
    "\n",
    "The following packages are required to run this code.\n",
    "\"\"\"\n",
    "\n",
    "from __future__ import print_function, division\n",
    "import pandas as pd\n",
    "\n",
    "import sys\n",
    "import numpy as np\n",
    "import math\n",
    "import matplotlib.pyplot as plt\n",
    "from sklearn.feature_extraction import DictVectorizer\n",
    "%matplotlib inline\n",
    "import seaborn as sns\n",
    "\n",
    "from collections import defaultdict, Counter\n",
    "import statsmodels.formula.api as smf"
   ]
  },
  {
   "cell_type": "code",
   "execution_count": 4,
   "metadata": {
    "collapsed": true
   },
   "outputs": [],
   "source": [
    "### This is for the other massive set\n",
    "\n",
    "def ReadIngredients(region='African'):\n",
    "    \"\"\" Takes the ingedients dataset and converts it into a Dataframe. \n",
    "    Region can be: African, EastAsian, EasternEuropean, LatinAmerican,\n",
    "        MiddleEastern, NorthAmerican, NorthernEuropean, SouthAsian,\n",
    "        SoutheastAsian, SouthernEuropean, WesternEuropean\"\"\"\n",
    "    temp = pd.read_csv(\"FoodDataset/ingredients.csv\") # Reads the file with a lot of NaNs and little order\n",
    "    #temp.fillna(value='None')\n",
    "    temp2 = temp[temp.cuisine_type==region]\n",
    "    temp_dict = temp2.to_dict('index')\n",
    "    \n",
    "    temp_list = []\n",
    "    \n",
    "    for keys,values in temp_dict.items():\n",
    "        td = {}\n",
    "        for key,x in values.items():\n",
    "            if key=='cuisine_type':\n",
    "                td[key] = x\n",
    "            else:\n",
    "                td[x]=1\n",
    "        temp_list.append(td)\n",
    "        \n",
    "        \n",
    "    return pd.DataFrame(temp_list).fillna(0)\n",
    "\n",
    "def corrPlot(df):\n",
    "    \"\"\" Given the ingredients dataframe, selects\n",
    "    the most used ingredients and creates a correlation \n",
    "    matrix from them.\"\"\"\n",
    "    df1 = df.ix[:, (df.columns != 'cuisine_type')]\n",
    "    temp_df = df1.sum()\n",
    "    mdf = temp_df[temp_df > 50].iloc[1:]\n",
    "    print(mdf)\n",
    "    corr_df = pd.DataFrame()\n",
    "    \n",
    "    for x in mdf.index:\n",
    "        if x!='index1':\n",
    "            corr_df[x] = df[x]\n",
    "        \n",
    "    corr_df['index1'] = [int(x) for x in corr_df.index.values]\n",
    "    sns.heatmap(corr_df.corr())\n",
    "    return corr_df\n",
    "\n",
    "#ingredients = ReadIngredients('SoutheastAsian')\n",
    "\n",
    "# Shows what ingredients are most/least likely to be used together.\n",
    "#  For example, in African cuisine, cumin and coriander are fairly \n",
    "#  correlated, whereas vegetable oil and olive oil together are not.\n",
    "#%matplotlib inline\n",
    "#corr_df = corrPlot(ingredients)"
   ]
  },
  {
   "cell_type": "code",
   "execution_count": 17,
   "metadata": {
    "collapsed": true
   },
   "outputs": [],
   "source": [
    "def ReadProximates():\n",
    "    df = pd.read_excel('dietary.xls', sheetname='Proximates')\n",
    "    column_list = ['Water (g)', 'Protein (g)', 'Fat (g)', 'Carbohydrate (g)', 'Total sugars (g)']\n",
    "    \n",
    "    df['Water'] = pd.to_numeric(df['Water (g)'], errors='coerce')\n",
    "    df['Protein'] = pd.to_numeric(df['Protein (g)'], errors='coerce')\n",
    "    df['Fat'] = pd.to_numeric(df['Fat (g)'], errors='coerce')\n",
    "    df['Carbohydrate'] = pd.to_numeric(df['Carbohydrate (g)'], errors='coerce')\n",
    "    df['Sugars'] = pd.to_numeric(df['Total sugars (g)'], errors='coerce')\n",
    "    \n",
    "    df['Water'].replace([np.nan], 0, inplace=True)\n",
    "    df['Protein'].replace([np.nan], 0, inplace=True)\n",
    "    df['Fat'].replace([np.nan], 0, inplace=True)\n",
    "    df['Carbohydrate'].replace([np.nan], 0, inplace=True)\n",
    "    df['Sugars'].replace([np.nan], 0, inplace=True)\n",
    "    \n",
    "    \n",
    "#     for column in column_list:\n",
    "#         new_name = column[:-4]\n",
    "#         df[new_name]= df[column]\n",
    "#         for key, value in df[column].items():\n",
    "#             if isinstance(value, str):\n",
    "#                 if '(' in value:\n",
    "#                     df[new_name][key] = float(value[1:-1])\n",
    "#                 elif value=='Tr':\n",
    "#                     df[new_name][key] = 0.0\n",
    "#                 elif value=='N':\n",
    "#                     df[new_name][key] = 0.0\n",
    "#                 elif math.isnan(float(value)):\n",
    "#                     df[new_name][key] = 0.0\n",
    "#                     print('NaN found')\n",
    "#                 else:\n",
    "#                     df[new_name][key] = float(value)\n",
    "        \n",
    "    return df"
   ]
  },
  {
   "cell_type": "code",
   "execution_count": 7,
   "metadata": {
    "collapsed": false
   },
   "outputs": [],
   "source": [
    "#tester = pd.read_excel('dietary.xls', sheetname='Proximates')\n",
    "# tester = ReadProximates()\n",
    "# TO DO\n",
    "# For cleaning: \n",
    "#  Get rid of Ns and Trs <- Done!\n",
    "#  Figure out how to deal with parentheses <- Done!\n",
    "#  Convert rows into floats (.astype) <- Done!\n",
    "#  Get ready for lots of brackets...\n",
    "#  Potentially just make different columns for the integer values <- ...done?\n",
    "\n",
    "# For report:\n",
    "#  Figure out if we can actually classify based on these values\n",
    "#  Make a dictionary mapping from the Group codes to actual names\n",
    "#  Figure out a good model\n",
    "#  Do the thing\n",
    "#  PCA to figure out the components we will want to look at\n",
    "#  Unclassified ML to figure out natural groups?\n"
   ]
  },
  {
   "cell_type": "code",
   "execution_count": 19,
   "metadata": {
    "collapsed": false,
    "scrolled": true
   },
   "outputs": [
    {
     "data": {
      "text/plain": [
       "0        1.6\n",
       "1        2.3\n",
       "2        2.2\n",
       "3        6.1\n",
       "4        4.6\n",
       "5        1.5\n",
       "6        2.9\n",
       "7        2.0\n",
       "8        2.4\n",
       "9        1.0\n",
       "10       2.1\n",
       "11       2.3\n",
       "12       5.0\n",
       "13       4.2\n",
       "14       1.2\n",
       "15       2.2\n",
       "16       1.2\n",
       "17       3.0\n",
       "18       0.0\n",
       "19       2.3\n",
       "20       2.6\n",
       "21       3.6\n",
       "22       4.3\n",
       "23       7.3\n",
       "24       6.9\n",
       "25       5.9\n",
       "26       1.4\n",
       "27      12.0\n",
       "28      12.4\n",
       "29      32.8\n",
       "        ... \n",
       "3393     2.5\n",
       "3394     2.1\n",
       "3395     2.8\n",
       "3396     2.0\n",
       "3397     7.3\n",
       "3398    20.6\n",
       "3399    24.8\n",
       "3400     3.6\n",
       "3401     3.0\n",
       "3402     1.0\n",
       "3403     1.7\n",
       "3404     1.9\n",
       "3405     2.0\n",
       "3406     5.5\n",
       "3407     0.0\n",
       "3408     5.6\n",
       "3409     0.0\n",
       "3410     1.4\n",
       "3411     1.4\n",
       "3412     0.8\n",
       "3413     0.4\n",
       "3414     0.9\n",
       "3415     0.6\n",
       "3416     3.6\n",
       "3417     2.5\n",
       "3418     3.9\n",
       "3419     0.2\n",
       "3420     0.2\n",
       "3421     4.2\n",
       "3422     0.0\n",
       "Name: Sugars, dtype: float64"
      ]
     },
     "execution_count": 19,
     "metadata": {},
     "output_type": "execute_result"
    }
   ],
   "source": [
    "tester = ReadProximates()\n",
    "tester['Sugars']"
   ]
  },
  {
   "cell_type": "code",
   "execution_count": 21,
   "metadata": {
    "collapsed": false,
    "scrolled": true
   },
   "outputs": [
    {
     "data": {
      "text/plain": [
       "KMeans(algorithm='auto', copy_x=True, init='k-means++', max_iter=300,\n",
       "    n_clusters=15, n_init=10, n_jobs=1, precompute_distances='auto',\n",
       "    random_state=0, tol=0.0001, verbose=0)"
      ]
     },
     "execution_count": 21,
     "metadata": {},
     "output_type": "execute_result"
    }
   ],
   "source": [
    "from sklearn.cluster import KMeans\n",
    "#['Water (g)', 'Protein (g)', 'Fat (g)', 'Carbohydrate (g)', 'Total sugars (g)']\n",
    "water = pd.Series(tester.Water, name='Water')\n",
    "protein = pd.Series(tester.Protein, name='Protein')\n",
    "fat = pd.Series(tester.Fat, name='Fat')\n",
    "carbs = pd.Series(tester.Carbohydrate, name='Carbs')\n",
    "sugars = pd.Series(tester['Sugars'], name='Sugars')\n",
    "X = pd.concat([water,protein,fat,carbs,sugars], axis=1)\n",
    "X.fillna(0)\n",
    "kmeans = KMeans(n_clusters=15, random_state=0)\n",
    "kmeans.fit(X.dropna())"
   ]
  },
  {
   "cell_type": "code",
   "execution_count": null,
   "metadata": {
    "collapsed": false
   },
   "outputs": [],
   "source": []
  }
 ],
 "metadata": {
  "anaconda-cloud": {},
  "kernelspec": {
   "display_name": "Python 2",
   "language": "python",
   "name": "python2"
  },
  "language_info": {
   "codemirror_mode": {
    "name": "ipython",
    "version": 2
   },
   "file_extension": ".py",
   "mimetype": "text/x-python",
   "name": "python",
   "nbconvert_exporter": "python",
   "pygments_lexer": "ipython2",
   "version": "2.7.12"
  }
 },
 "nbformat": 4,
 "nbformat_minor": 1
}
